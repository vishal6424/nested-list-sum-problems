{
 "cells": [
  {
   "cell_type": "markdown",
   "metadata": {},
   "source": [
    "### way to solve nested list sum"
   ]
  },
  {
   "cell_type": "code",
   "execution_count": 26,
   "metadata": {},
   "outputs": [
    {
     "data": {
      "text/plain": [
       "50"
      ]
     },
     "execution_count": 26,
     "metadata": {},
     "output_type": "execute_result"
    }
   ],
   "source": [
    "a=[1,[2,4,5],6,7,8,[8,9]]\n",
    "l = [1, 2, [3, 4, [5, 6]], 7, 8, [9, [10]]]\n",
    "\n",
    "def find_sum(l:list):\n",
    "    for i in l:\n",
    "        if type(i) != list:\n",
    "            yield i\n",
    "                # print(s)\n",
    "        else:\n",
    "            yield sum(i)\n",
    "    \n",
    "sum([i for i in find_sum(a)])\n"
   ]
  },
  {
   "cell_type": "code",
   "execution_count": 31,
   "metadata": {},
   "outputs": [],
   "source": [
    "l = [1, 2, [3, 4, [5, 6]], 7, 8, [9, [10]]]\n",
    "\n",
    "def find_sum(l:list):\n",
    "    for i in l:\n",
    "        if type(i) != list:\n",
    "            yield i\n",
    "                # print(s)\n",
    "        else:\n",
    "            sss = find_sum(i)\n",
    "            yield sum([i for i in sss])\n",
    "    \n",
    "sum([i for i in find_sum(l)])\n"
   ]
  },
  {
   "cell_type": "code",
   "execution_count": 3,
   "metadata": {},
   "outputs": [
    {
     "name": "stdout",
     "output_type": "stream",
     "text": [
      "1\n",
      "11\n",
      "6\n",
      "7\n",
      "8\n",
      "17\n"
     ]
    }
   ],
   "source": [
    "for i in find_sum(a):\n",
    "    print(i)"
   ]
  },
  {
   "cell_type": "code",
   "execution_count": 4,
   "metadata": {},
   "outputs": [],
   "source": [
    "b = [1,2,4,5,6,7,8,8,9]"
   ]
  },
  {
   "cell_type": "code",
   "execution_count": 5,
   "metadata": {},
   "outputs": [
    {
     "data": {
      "text/plain": [
       "50"
      ]
     },
     "execution_count": 5,
     "metadata": {},
     "output_type": "execute_result"
    }
   ],
   "source": [
    "sum(b)"
   ]
  },
  {
   "cell_type": "code",
   "execution_count": 6,
   "metadata": {},
   "outputs": [
    {
     "data": {
      "text/plain": [
       "50"
      ]
     },
     "execution_count": 6,
     "metadata": {},
     "output_type": "execute_result"
    }
   ],
   "source": [
    "sum(sum(x) if isinstance(x,(list)) else x for x in a)"
   ]
  },
  {
   "cell_type": "code",
   "execution_count": 7,
   "metadata": {},
   "outputs": [
    {
     "data": {
      "text/plain": [
       "50"
      ]
     },
     "execution_count": 7,
     "metadata": {},
     "output_type": "execute_result"
    }
   ],
   "source": [
    "sum(sum(x) if isinstance(x,list) else x for x in a)"
   ]
  },
  {
   "cell_type": "code",
   "execution_count": 8,
   "metadata": {},
   "outputs": [
    {
     "data": {
      "text/plain": [
       "50"
      ]
     },
     "execution_count": 8,
     "metadata": {},
     "output_type": "execute_result"
    }
   ],
   "source": [
    "sum(sum(x) if isinstance(x, list) else x for x in a)"
   ]
  },
  {
   "cell_type": "code",
   "execution_count": 9,
   "metadata": {},
   "outputs": [],
   "source": [
    "from functools import reduce"
   ]
  },
  {
   "cell_type": "code",
   "execution_count": 10,
   "metadata": {},
   "outputs": [
    {
     "data": {
      "text/plain": [
       "50"
      ]
     },
     "execution_count": 10,
     "metadata": {},
     "output_type": "execute_result"
    }
   ],
   "source": [
    "reduce(lambda a, b: sum(a) if type(a) is list else (sum(b) + a) if type(b) is list else a+b, a)"
   ]
  },
  {
   "cell_type": "code",
   "execution_count": 18,
   "metadata": {},
   "outputs": [],
   "source": [
    "test_list = [1, [2, 3, 4, 5, 6], 7, [8, 9], 10]"
   ]
  },
  {
   "cell_type": "code",
   "execution_count": 24,
   "metadata": {},
   "outputs": [
    {
     "data": {
      "text/plain": [
       "50"
      ]
     },
     "execution_count": 24,
     "metadata": {},
     "output_type": "execute_result"
    }
   ],
   "source": [
    "a=[1,[2,4,5],6,7,8,[8,9]]\n",
    "test = lambda x:sum((sum(i) if type(i) is list else i for i in x))\n",
    "test(a)"
   ]
  },
  {
   "cell_type": "code",
   "execution_count": 22,
   "metadata": {},
   "outputs": [],
   "source": [
    "# new_list = sum(b, [])\n",
    "# print(new_list)"
   ]
  },
  {
   "cell_type": "code",
   "execution_count": null,
   "metadata": {},
   "outputs": [],
   "source": [
    "b = [[2, 4, 5],[6, 7, 8],[8, 9]]"
   ]
  },
  {
   "cell_type": "code",
   "execution_count": null,
   "metadata": {},
   "outputs": [
    {
     "name": "stdout",
     "output_type": "stream",
     "text": [
      "[2, 4, 5, 6, 7, 8, 8, 9]\n"
     ]
    }
   ],
   "source": [
    "my_list = [[1], [2, 3], [4, 5, 6, 7]]\n",
    "\n",
    "flat_list = sum(b, [])\n",
    "print(flat_list)"
   ]
  },
  {
   "cell_type": "code",
   "execution_count": null,
   "metadata": {},
   "outputs": [],
   "source": [
    "#4\n",
    "# input list\n",
    "l = [1, 2, [3, 4, [5, 6]], 7, 8, [9, [10]]]\n",
    "\n",
    "# output list\n",
    "output = []\n",
    "\n",
    "# function used for removing nested\n",
    "# lists in python using recursion\n",
    "def sum_nested_list(l):\n",
    "\tfor i in l:\n",
    "\t\tif type(i) == list:\n",
    "\t\t\tsum_nested_list(i)\n",
    "\t\telse:\n",
    "\t\t\toutput.append(i)\n",
    "\n",
    "\n",
    "\n",
    "sum_nested_list(l)\n",
    "print('The list after removing nesting: ',sum(output))"
   ]
  }
 ],
 "metadata": {
  "kernelspec": {
   "display_name": "Python 3.10.4 64-bit",
   "language": "python",
   "name": "python3"
  },
  "language_info": {
   "codemirror_mode": {
    "name": "ipython",
    "version": 3
   },
   "file_extension": ".py",
   "mimetype": "text/x-python",
   "name": "python",
   "nbconvert_exporter": "python",
   "pygments_lexer": "ipython3",
   "version": "3.10.4"
  },
  "orig_nbformat": 4,
  "vscode": {
   "interpreter": {
    "hash": "3ad933181bd8a04b432d3370b9dc3b0662ad032c4dfaa4e4f1596c548f763858"
   }
  }
 },
 "nbformat": 4,
 "nbformat_minor": 2
}
