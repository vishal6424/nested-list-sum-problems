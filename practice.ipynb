{
 "cells": [
  {
   "cell_type": "markdown",
   "metadata": {},
   "source": [
    "### Way to solve nested list sum"
   ]
  },
  {
   "cell_type": "code",
   "execution_count": 1,
   "metadata": {},
   "outputs": [
    {
     "data": {
      "text/plain": [
       "[1, 11, 6, 7, 8, 17]"
      ]
     },
     "execution_count": 1,
     "metadata": {},
     "output_type": "execute_result"
    }
   ],
   "source": [
    "#1\n",
    "a=[1,[2,4,5],6,7,8,[8,9]]\n",
    "list(sum(x) if isinstance(x,list) else x for x in a)\n"
   ]
  },
  {
   "cell_type": "code",
   "execution_count": 30,
   "metadata": {},
   "outputs": [],
   "source": [
    "#2\n",
    "from functools import reduce\n",
    "from operator import add"
   ]
  },
  {
   "cell_type": "code",
   "execution_count": 43,
   "metadata": {},
   "outputs": [
    {
     "data": {
      "text/plain": [
       "122"
      ]
     },
     "execution_count": 43,
     "metadata": {},
     "output_type": "execute_result"
    }
   ],
   "source": [
    "reduce(add,[1,2,4,5,6,7,88,9])"
   ]
  },
  {
   "cell_type": "code",
   "execution_count": 5,
   "metadata": {},
   "outputs": [
    {
     "name": "stdout",
     "output_type": "stream",
     "text": [
      "[1, 2, 3, 4, 5, 6, 7]\n"
     ]
    }
   ],
   "source": [
    "my_list = [[1], [2, 3], [4, 5, 6, 7]]\n",
    "\n",
    "flat_list = [num for sublist in my_list for num in sublist]\n",
    "print(flat_list)"
   ]
  },
  {
   "cell_type": "code",
   "execution_count": 33,
   "metadata": {},
   "outputs": [
    {
     "name": "stdout",
     "output_type": "stream",
     "text": [
      "[1, 2, 3, 4, 5, 6, 7]\n"
     ]
    }
   ],
   "source": [
    "my_list = [[1], [2, 3], [4, 5, 6, 7]]\n",
    "\n",
    "flat_list = sum(my_list, [])\n",
    "print(flat_list)"
   ]
  },
  {
   "cell_type": "code",
   "execution_count": 34,
   "metadata": {},
   "outputs": [
    {
     "data": {
      "text/plain": [
       "28"
      ]
     },
     "execution_count": 34,
     "metadata": {},
     "output_type": "execute_result"
    }
   ],
   "source": [
    "sum(flat_list)"
   ]
  },
  {
   "cell_type": "code",
   "execution_count": 35,
   "metadata": {},
   "outputs": [
    {
     "name": "stdout",
     "output_type": "stream",
     "text": [
      "The list after removing nesting:  55\n"
     ]
    }
   ],
   "source": [
    "#4\n",
    "l = [1, 2, [3, 4, [5, 6]], 7, 8, [9, [10]]]\n",
    "# output list\n",
    "output = []\n",
    "# function used for removing nested\n",
    "# lists in python using recursion\n",
    "def sum_nested_list(l):\n",
    "\tfor i in l:\n",
    "\t\tif type(i) == list:\n",
    "\t\t\tsum_nested_list(i)\n",
    "\t\telse:\n",
    "\t\t\toutput.append(i)\n",
    "sum_nested_list(l)\n",
    "print('The list after removing nesting: ',sum(output))\n"
   ]
  },
  {
   "cell_type": "code",
   "execution_count": null,
   "metadata": {},
   "outputs": [],
   "source": [
    "#5\n",
    "a=[1,[2,4,5],6,7,8,[8,9]]\n",
    "s=0\n",
    "for i in a:\n",
    "    if type(i)==int:\n",
    "        s=s+i\n",
    "    else:\n",
    "        for j in i:\n",
    "            s=s+j\n",
    "print(s)"
   ]
  },
  {
   "cell_type": "code",
   "execution_count": 36,
   "metadata": {},
   "outputs": [
    {
     "name": "stdout",
     "output_type": "stream",
     "text": [
      "[11, 33, 22, 55, 11, 77, 88]\n"
     ]
    }
   ],
   "source": [
    "#6 \n",
    "import numpy as np\n",
    "\n",
    "lst = [[11, 33],[22, 55], [11], [77, 88]]\n",
    "\n",
    "new = list(np.concatenate(lst))\n",
    "\n",
    "print((new))\n"
   ]
  },
  {
   "cell_type": "code",
   "execution_count": 37,
   "metadata": {},
   "outputs": [
    {
     "data": {
      "text/plain": [
       "297"
      ]
     },
     "execution_count": 37,
     "metadata": {},
     "output_type": "execute_result"
    }
   ],
   "source": [
    "sum(new)"
   ]
  },
  {
   "cell_type": "code",
   "execution_count": 38,
   "metadata": {},
   "outputs": [
    {
     "name": "stdout",
     "output_type": "stream",
     "text": [
      "Flat List [11, 22, 33, 44, 55, 66, 77, 88, 99, 100]\n"
     ]
    }
   ],
   "source": [
    "lis = [[11, 22, 33, 44], [55, 66, 77], [88, 99, 100]]\n",
    "res=[]\n",
    "for i in lis:\n",
    "\tres.extend(i)\n",
    "print('Flat List', res)\n",
    "\n"
   ]
  },
  {
   "cell_type": "code",
   "execution_count": 39,
   "metadata": {},
   "outputs": [
    {
     "data": {
      "text/plain": [
       "595"
      ]
     },
     "execution_count": 39,
     "metadata": {},
     "output_type": "execute_result"
    }
   ],
   "source": [
    "sum(res)"
   ]
  },
  {
   "cell_type": "code",
   "execution_count": null,
   "metadata": {},
   "outputs": [],
   "source": [
    "l = [1, 2, [3, 4, [5, 6]], 7, 8, [9, [10]]]\n",
    "\n",
    "def find_sum(l:list):\n",
    "    for i in l:\n",
    "        if type(i) != list:\n",
    "            yield i\n",
    "                # print(s)\n",
    "        else:\n",
    "            sss = find_sum(i)\n",
    "            yield sum([i for i in sss])\n",
    "    \n",
    "sum([i for i in find_sum(l)])"
   ]
  },
  {
   "cell_type": "code",
   "execution_count": null,
   "metadata": {},
   "outputs": [],
   "source": []
  }
 ],
 "metadata": {
  "kernelspec": {
   "display_name": "Python 3.8.10 64-bit",
   "language": "python",
   "name": "python3"
  },
  "language_info": {
   "codemirror_mode": {
    "name": "ipython",
    "version": 3
   },
   "file_extension": ".py",
   "mimetype": "text/x-python",
   "name": "python",
   "nbconvert_exporter": "python",
   "pygments_lexer": "ipython3",
   "version": "3.8.10"
  },
  "orig_nbformat": 4,
  "vscode": {
   "interpreter": {
    "hash": "864877607d15ad987180b26326d1359bcc4706d13376346cee8bb76ca6cd998c"
   }
  }
 },
 "nbformat": 4,
 "nbformat_minor": 2
}
